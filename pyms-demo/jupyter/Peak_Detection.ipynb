{
 "cells": [
  {
   "cell_type": "markdown",
   "metadata": {
    "collapsed": false
   },
   "source": [
    "## Example: Peak Detection\n",
    "\n",
    "First, setup the paths to the datafiles and the output directory, then import JCAMP_reader and build_intensity_matrix."
   ]
  },
  {
   "cell_type": "code",
   "execution_count": 1,
   "metadata": {
    "execution": {}
   },
   "outputs": [],
   "source": [
    "import pathlib\n",
    "data_directory = pathlib.Path(\".\").resolve().parent.parent / \"pyms-data\"\n",
    "# Change this if the data files are stored in a different location\n",
    "\n",
    "output_directory = pathlib.Path(\".\").resolve() / \"output\"\n",
    "\n",
    "from pyms.GCMS.IO.JCAMP import JCAMP_reader\n",
    "from pyms.IntensityMatrix import build_intensity_matrix"
   ]
  },
  {
   "cell_type": "markdown",
   "metadata": {
    "collapsed": false
   },
   "source": [
    "Read the raw data file and build the |IntensityMatrix|."
   ]
  },
  {
   "cell_type": "code",
   "execution_count": 2,
   "metadata": {
    "execution": {}
   },
   "outputs": [
    {
     "name": "stdout",
     "output_type": "stream",
     "text": [
      " -> Reading JCAMP file '/home/runner/work/PyMassSpec/PyMassSpec/pyms-data/gc01_0812_066.jdx'\n"
     ]
    }
   ],
   "source": [
    "jcamp_file = data_directory / \"gc01_0812_066.jdx\"\n",
    "data = JCAMP_reader(jcamp_file)\n",
    "im = build_intensity_matrix(data)"
   ]
  },
  {
   "cell_type": "markdown",
   "metadata": {
    "collapsed": false
   },
   "source": [
    "Preprocess the data (Savitzky-Golay smoothing and Tophat baseline detection)."
   ]
  },
  {
   "cell_type": "code",
   "execution_count": 3,
   "metadata": {
    "execution": {}
   },
   "outputs": [],
   "source": [
    "from pyms.Noise.SavitzkyGolay import savitzky_golay\n",
    "from pyms.TopHat import tophat\n",
    "\n",
    "n_scan, n_mz = im.size\n",
    "\n",
    "for ii in range(n_mz):\n",
    "    ic = im.get_ic_at_index(ii)\n",
    "    ic_smooth = savitzky_golay(ic)\n",
    "    ic_bc = tophat(ic_smooth, struct=\"1.5m\")\n",
    "    im.set_ic_at_index(ii, ic_bc)"
   ]
  },
  {
   "cell_type": "markdown",
   "metadata": {
    "collapsed": false
   },
   "source": [
    "Now the Biller and Biemann based technique can be applied to detect peaks."
   ]
  },
  {
   "cell_type": "code",
   "execution_count": 4,
   "metadata": {
    "execution": {}
   },
   "outputs": [
    {
     "data": {
      "text/plain": [
       "[<pyms.Peak.Class.Peak at 0x7f747c2013c8>,\n",
       " <pyms.Peak.Class.Peak at 0x7f747c201390>,\n",
       " <pyms.Peak.Class.Peak at 0x7f7455eb4160>,\n",
       " <pyms.Peak.Class.Peak at 0x7f7486c12eb8>,\n",
       " <pyms.Peak.Class.Peak at 0x7f748345a160>,\n",
       " <pyms.Peak.Class.Peak at 0x7f744a87c898>,\n",
       " <pyms.Peak.Class.Peak at 0x7f744a87ca58>,\n",
       " <pyms.Peak.Class.Peak at 0x7f744a87cac8>,\n",
       " <pyms.Peak.Class.Peak at 0x7f744a87cb38>,\n",
       " <pyms.Peak.Class.Peak at 0x7f744a87cba8>]"
      ]
     },
     "execution_count": 1,
     "metadata": {},
     "output_type": "execute_result"
    }
   ],
   "source": [
    "from pyms.BillerBiemann import BillerBiemann\n",
    "peak_list = BillerBiemann(im)\n",
    "peak_list[:10]"
   ]
  },
  {
   "cell_type": "code",
   "execution_count": 5,
   "metadata": {
    "execution": {}
   },
   "outputs": [
    {
     "data": {
      "text/plain": [
       "9845"
      ]
     },
     "execution_count": 1,
     "metadata": {},
     "output_type": "execute_result"
    }
   ],
   "source": [
    "len(peak_list)\n"
   ]
  },
  {
   "cell_type": "markdown",
   "metadata": {
    "collapsed": false
   },
   "source": [
    "Note that this is nearly as many peaks as there are scans in the data\n",
    "(9865 scans). This is due to noise and the simplicity of the technique.\n",
    "\n",
    "The number of detected peaks can be constrained by the selection of better\n",
    "parameters. Parameters can be determined by counting the number of points\n",
    "across a peak, and examining where peaks are found. For example, the peak\n",
    "list can be found with the parameters of a window of 9 points and by\n",
    "combining 2 neighbouring scans if they apex next to each other:\n"
   ]
  },
  {
   "cell_type": "code",
   "execution_count": 6,
   "metadata": {
    "execution": {}
   },
   "outputs": [
    {
     "data": {
      "text/plain": [
       "[<pyms.Peak.Class.Peak at 0x7f742fb2af60>,\n",
       " <pyms.Peak.Class.Peak at 0x7f742fb2af98>,\n",
       " <pyms.Peak.Class.Peak at 0x7f742fa5d048>,\n",
       " <pyms.Peak.Class.Peak at 0x7f742fa5d0b8>,\n",
       " <pyms.Peak.Class.Peak at 0x7f742fa5d128>,\n",
       " <pyms.Peak.Class.Peak at 0x7f742fa5d198>,\n",
       " <pyms.Peak.Class.Peak at 0x7f742fa5d208>,\n",
       " <pyms.Peak.Class.Peak at 0x7f742fa5d278>,\n",
       " <pyms.Peak.Class.Peak at 0x7f742fa5d2e8>,\n",
       " <pyms.Peak.Class.Peak at 0x7f742fa5d358>]"
      ]
     },
     "execution_count": 1,
     "metadata": {},
     "output_type": "execute_result"
    }
   ],
   "source": [
    "peak_list = BillerBiemann(im, points=9, scans=2)\n",
    "peak_list[:10]"
   ]
  },
  {
   "cell_type": "code",
   "execution_count": 7,
   "metadata": {
    "execution": {}
   },
   "outputs": [
    {
     "data": {
      "text/plain": [
       "3695"
      ]
     },
     "execution_count": 1,
     "metadata": {},
     "output_type": "execute_result"
    }
   ],
   "source": [
    "len(peak_list)\n"
   ]
  },
  {
   "cell_type": "markdown",
   "metadata": {
    "collapsed": false
   },
   "source": [
    "The number of detected peaks has been reduced, but there are still many more\n",
    "than would be expected from the sample. Functions to filter the peak list are\n",
    "covered in the next example.\n",
    "\n",
    "## Example: Peak List Filtering\n",
    "\n",
    "There are two functions to filter the list of Peak objects.\n",
    "\n",
    "The first, |rel_threshold()| modifies the mass spectrum stored in each peak so\n",
    "any intensity that is less than a given percentage of the maximum intensity for the peak is removed.\n",
    "\n",
    "The second, |num_ions_threshold()|, removes any peak that has less than a given\n",
    "number of ions above a given threshold.\n",
    "\n",
    "Once the peak list has been constructed, the filters can be applied as follows:"
   ]
  },
  {
   "cell_type": "code",
   "execution_count": 8,
   "metadata": {
    "execution": {}
   },
   "outputs": [
    {
     "data": {
      "text/plain": [
       "[<pyms.Peak.Class.Peak at 0x7f744a87ceb8>,\n",
       " <pyms.Peak.Class.Peak at 0x7f744a87cf98>,\n",
       " <pyms.Peak.Class.Peak at 0x7f744bcac3c8>,\n",
       " <pyms.Peak.Class.Peak at 0x7f747c2013c8>,\n",
       " <pyms.Peak.Class.Peak at 0x7f747c201940>,\n",
       " <pyms.Peak.Class.Peak at 0x7f747c2010f0>,\n",
       " <pyms.Peak.Class.Peak at 0x7f744bc8dc18>,\n",
       " <pyms.Peak.Class.Peak at 0x7f748345a898>,\n",
       " <pyms.Peak.Class.Peak at 0x7f7455eb4160>,\n",
       " <pyms.Peak.Class.Peak at 0x7f7455eb4da0>]"
      ]
     },
     "execution_count": 1,
     "metadata": {},
     "output_type": "execute_result"
    }
   ],
   "source": [
    "from pyms.BillerBiemann import rel_threshold, num_ions_threshold\n",
    "pl = rel_threshold(peak_list, percent=2)\n",
    "pl[:10]"
   ]
  },
  {
   "cell_type": "code",
   "execution_count": 9,
   "metadata": {
    "execution": {}
   },
   "outputs": [
    {
     "data": {
      "text/plain": [
       "[<pyms.Peak.Class.Peak at 0x7f744a87c898>,\n",
       " <pyms.Peak.Class.Peak at 0x7f744a87c8d0>,\n",
       " <pyms.Peak.Class.Peak at 0x7f744a87cac8>,\n",
       " <pyms.Peak.Class.Peak at 0x7f744a87cb00>,\n",
       " <pyms.Peak.Class.Peak at 0x7f743f2bb710>,\n",
       " <pyms.Peak.Class.Peak at 0x7f743f2bb080>,\n",
       " <pyms.Peak.Class.Peak at 0x7f743f2bb7f0>,\n",
       " <pyms.Peak.Class.Peak at 0x7f743f2bb898>,\n",
       " <pyms.Peak.Class.Peak at 0x7f743f2bb940>,\n",
       " <pyms.Peak.Class.Peak at 0x7f743f2bb9e8>]"
      ]
     },
     "execution_count": 1,
     "metadata": {},
     "output_type": "execute_result"
    }
   ],
   "source": [
    "new_peak_list = num_ions_threshold(pl, n=3, cutoff=10000)\n",
    "new_peak_list[:10]"
   ]
  },
  {
   "cell_type": "code",
   "execution_count": 10,
   "metadata": {
    "execution": {}
   },
   "outputs": [
    {
     "data": {
      "text/plain": [
       "146"
      ]
     },
     "execution_count": 1,
     "metadata": {},
     "output_type": "execute_result"
    }
   ],
   "source": [
    "len(new_peak_list)"
   ]
  },
  {
   "cell_type": "markdown",
   "metadata": {
    "collapsed": false
   },
   "source": [
    "The number of detected peaks is now more realistic of what would be expected in\n",
    "the test sample."
   ]
  }
 ],
 "metadata": {
  "kernelspec": {
   "display_name": "Python 3",
   "language": "python",
   "name": "python3"
  },
  "language_info": {
   "codemirror_mode": {
    "name": "ipython",
    "version": 3
   },
   "file_extension": ".py",
   "mimetype": "text/x-python",
   "name": "python",
   "nbconvert_exporter": "python",
   "pygments_lexer": "ipython3",
   "version": "3.6.12"
  },
  "pycharm": {
   "stem_cell": {
    "cell_type": "raw",
    "metadata": {
     "collapsed": false
    },
    "source": []
   }
  }
 },
 "nbformat": 4,
 "nbformat_minor": 0
}
